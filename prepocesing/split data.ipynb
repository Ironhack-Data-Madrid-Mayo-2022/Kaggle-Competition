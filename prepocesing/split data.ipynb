{
 "cells": [
  {
   "cell_type": "code",
   "execution_count": 2,
   "id": "12272358",
   "metadata": {},
   "outputs": [],
   "source": [
    "import requests as req\n",
    "import http.client\n",
    "import json\n",
    "import pandas as pd\n",
    "from bs4 import BeautifulSoup as bs\n",
    "pd.set_option('display.max_columns', None)\n",
    "pd.set_option('display.max_rows', None)"
   ]
  },
  {
   "cell_type": "code",
   "execution_count": 4,
   "id": "6c1662f6",
   "metadata": {},
   "outputs": [],
   "source": [
    "url = 'https://www.tradingview.com/symbols/NASDAQ-TSLA/history-timeline/#a-new-megapack-is-here-2022-04-16'\n",
    "soup = bs(req.get(url).text , 'html.parser')"
   ]
  },
  {
   "cell_type": "code",
   "execution_count": 24,
   "id": "16cc99f2",
   "metadata": {},
   "outputs": [],
   "source": [
    "body = soup.find('div', class_='tv-layout-width')"
   ]
  },
  {
   "cell_type": "code",
   "execution_count": 30,
   "id": "e675412f",
   "metadata": {},
   "outputs": [],
   "source": [
    "tab = soup.find_all('div', class_='tv-feed__item tv-feed__item--width_two-columns js-feed__item--inited container-QQYMptPC')"
   ]
  },
  {
   "cell_type": "code",
   "execution_count": 36,
   "id": "7ccb24d0",
   "metadata": {},
   "outputs": [],
   "source": [
    "tab_2 = tab[0].find_all('div', class_='container-jdFEaBiF')"
   ]
  },
  {
   "cell_type": "code",
   "execution_count": 38,
   "id": "329cfb61",
   "metadata": {},
   "outputs": [
    {
     "data": {
      "text/plain": [
       "20"
      ]
     },
     "execution_count": 38,
     "metadata": {},
     "output_type": "execute_result"
    }
   ],
   "source": [
    "len(tab_2)"
   ]
  },
  {
   "cell_type": "code",
   "execution_count": 3,
   "id": "6aad4eed",
   "metadata": {},
   "outputs": [],
   "source": [
    "r = 6371000\n",
    "y = 1.73\n",
    "\n",
    "sen_alpha = y/r"
   ]
  },
  {
   "cell_type": "code",
   "execution_count": 4,
   "id": "c4dd8d65",
   "metadata": {},
   "outputs": [
    {
     "data": {
      "text/plain": [
       "2.7154292889656255e-07"
      ]
     },
     "execution_count": 4,
     "metadata": {},
     "output_type": "execute_result"
    }
   ],
   "source": [
    "sen_alpha"
   ]
  },
  {
   "cell_type": "code",
   "execution_count": null,
   "id": "995c051c",
   "metadata": {},
   "outputs": [],
   "source": []
  }
 ],
 "metadata": {
  "kernelspec": {
   "display_name": "IronHack",
   "language": "python",
   "name": "ironhack"
  },
  "language_info": {
   "codemirror_mode": {
    "name": "ipython",
    "version": 3
   },
   "file_extension": ".py",
   "mimetype": "text/x-python",
   "name": "python",
   "nbconvert_exporter": "python",
   "pygments_lexer": "ipython3",
   "version": "3.9.12"
  }
 },
 "nbformat": 4,
 "nbformat_minor": 5
}
